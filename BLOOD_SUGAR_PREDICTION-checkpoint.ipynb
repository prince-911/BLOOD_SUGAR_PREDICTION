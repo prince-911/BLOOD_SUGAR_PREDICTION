{
 "cells": [
  {
   "cell_type": "markdown",
   "id": "3203a74c-b080-43ee-a7e8-efa1a9a245e6",
   "metadata": {},
   "source": [
    "## Introduction\n",
    "Diabetes is a chronic condition affecting millions of people worldwide, and understanding the factors contributing to its development is crucial for prevention and management. The progression of diabetes is influenced by various health and lifestyle factors such as glucose levels, blood pressure, body mass index (BMI), and genetic predispositions. Early identification of individuals at risk of developing diabetes can lead to timely interventions, reducing the likelihood of severe health complications.\n",
    "\n",
    "In this project, we analyze a diabetes dataset that contains several health metrics related to individuals, such as glucose levels, insulin, blood pressure, skin thickness, and other physiological factors. The dataset also includes a binary outcome indicating whether or not an individual has diabetes. By exploring this dataset, we aim to identify the key features that differentiate individuals with diabetes from those without, using a range of exploratory data analysis (EDA) techniques.\n",
    "\n",
    "Through data visualization methods such as histograms, correlation heatmaps, boxplots, and bar plots, we will investigate the relationships between these health metrics and diabetes. The goal of this project is to provide a clearer understanding of which factors are most closely associated with diabetes outcomes, potentially contributing to better predictive models and preventive strategies in healthcare settings.\n",
    "\n",
    "This analysis can help medical professionals and researchers focus on critical variables for early detection and intervention, ultimately aiding in the fight against diabetes."
   ]
  },
  {
   "cell_type": "markdown",
   "id": "3e45b1cf-cb7e-4901-ac10-8b7af39210ae",
   "metadata": {},
   "source": [
    "## Domain\n",
    "The domain of this project falls under Healthcare and more specifically, within the field of Medical Data Analysis and Public Health. The primary focus is on Diabetes Risk Analysis, where the objective is to analyze patient health metrics to identify patterns and factors associated with the likelihood of developing diabetes.\n",
    "\n",
    "Key areas within the domain include:\n",
    "\n",
    "Healthcare Analytics: Leveraging data to draw insights about patient health and risk factors, particularly for chronic diseases like diabetes.\n",
    "Epidemiology: Studying the occurrence, distribution, and determinants of diabetes in populations.\n",
    "Data Science in Medicine: Utilizing data visualization, statistical analysis, and machine learning for disease prediction and prevention.\n",
    "This project lies at the intersection of healthcare and data science, with an emphasis on using patient data to inform clinical decision-making and public health policies for managing diabetes."
   ]
  },
  {
   "cell_type": "markdown",
   "id": "23f417a2-6684-472b-96ac-507cb25247fb",
   "metadata": {},
   "source": [
    "## ALGORITHM AND TECHNIQUE USED:-\n",
    "Here we used pipeline .pipeline is a way to streamline the process of building a model by chaining together multiple steps into a single object. This approach ensures that all necessary steps for transforming data and training a model are executed in the correct order and simplifies the workflow.\n",
    "\n",
    "Logistic Regression (pipeline_lr)\n",
    "\n",
    "Purpose: A simple, linear classifier used as a baseline for binary classification (diabetes or not).\n",
    "\n",
    "K-Nearest Neighbors (pipeline_knn)\n",
    "\n",
    "Purpose: A non-parametric, instance-based learning algorithm that classifies data points based on their nearest neighbors\n",
    "\n",
    "Support Vector Classifier (pipeline_svc)\n",
    "\n",
    "Purpose: Finds the optimal boundary (hyperplane) to classify data points, suitable for both linear and non-linear data.\n",
    "\n",
    "Decision Tree (pipeline_dt)\n",
    "\n",
    "Purpose: A tree-based model that splits the data into nodes based on feature thresholds, useful for interpretability and non-linear relationships.\n",
    "\n",
    "Random Forest (pipeline_rf)\n",
    "\n",
    "Purpose: An ensemble of decision trees that improves accuracy by averaging multiple trees, reducing overfitting and improving performance.\n",
    "\n",
    "Gradient Boosting Classifier (pipeline_gbc)\n",
    "\n",
    "Purpose: An ensemble model that builds trees sequentially to correct errors of the previous trees, known for high accuracy in structured data."
   ]
  },
  {
   "cell_type": "markdown",
   "id": "20269a8a-d19f-4db4-9032-6280556acd61",
   "metadata": {},
   "source": [
    "# Data Loading\n",
    "Objective: Load the diabetes dataset for analysis.\n",
    "\n",
    "Description: The dataset is loaded into a Pandas DataFrame using the pd.read_csv function. This step involves reading the CSV file named diabetesdataset.csv into memory, allowing us to perform subsequent data manipulation and analysis."
   ]
  },
  {
   "cell_type": "code",
   "execution_count": 221,
   "id": "92c06ccd-1101-4365-9cda-1c77302ffc26",
   "metadata": {},
   "outputs": [],
   "source": [
    "import pandas as pd\n",
    "data=pd.read_csv('diabetesdataset.csv')"
   ]
  },
  {
   "cell_type": "markdown",
   "id": "021cd68e-49f5-4f59-9ccb-da318922e99e",
   "metadata": {},
   "source": [
    "# Data Inspection\n",
    "Objective: Inspect the initial and final records of the dataset to understand its structure and content.\n",
    "\n",
    "Description: The data.head() function displays the first few rows of the dataset, giving an overview of the initial records and column names. Conversely, the data.tail() function shows the last few rows, which helps in verifying the dataset's completeness and consistency."
   ]
  },
  {
   "cell_type": "code",
   "execution_count": 223,
   "id": "b7b47109-7f39-4da3-aeea-f18fdb0bc8da",
   "metadata": {},
   "outputs": [
    {
     "data": {
      "text/html": [
       "<div>\n",
       "<style scoped>\n",
       "    .dataframe tbody tr th:only-of-type {\n",
       "        vertical-align: middle;\n",
       "    }\n",
       "\n",
       "    .dataframe tbody tr th {\n",
       "        vertical-align: top;\n",
       "    }\n",
       "\n",
       "    .dataframe thead th {\n",
       "        text-align: right;\n",
       "    }\n",
       "</style>\n",
       "<table border=\"1\" class=\"dataframe\">\n",
       "  <thead>\n",
       "    <tr style=\"text-align: right;\">\n",
       "      <th></th>\n",
       "      <th>Unnamed: 0</th>\n",
       "      <th>Pregnancies</th>\n",
       "      <th>Glucose</th>\n",
       "      <th>BloodPressure</th>\n",
       "      <th>SkinThickness</th>\n",
       "      <th>Insulin</th>\n",
       "      <th>BMI</th>\n",
       "      <th>DiabetesPedigreeFunction</th>\n",
       "      <th>Age</th>\n",
       "      <th>Outcome</th>\n",
       "    </tr>\n",
       "  </thead>\n",
       "  <tbody>\n",
       "    <tr>\n",
       "      <th>0</th>\n",
       "      <td>0</td>\n",
       "      <td>6</td>\n",
       "      <td>148</td>\n",
       "      <td>72</td>\n",
       "      <td>35</td>\n",
       "      <td>0</td>\n",
       "      <td>33.6</td>\n",
       "      <td>0.627</td>\n",
       "      <td>50</td>\n",
       "      <td>1</td>\n",
       "    </tr>\n",
       "    <tr>\n",
       "      <th>1</th>\n",
       "      <td>1</td>\n",
       "      <td>1</td>\n",
       "      <td>85</td>\n",
       "      <td>66</td>\n",
       "      <td>29</td>\n",
       "      <td>0</td>\n",
       "      <td>26.6</td>\n",
       "      <td>0.351</td>\n",
       "      <td>31</td>\n",
       "      <td>0</td>\n",
       "    </tr>\n",
       "    <tr>\n",
       "      <th>2</th>\n",
       "      <td>2</td>\n",
       "      <td>8</td>\n",
       "      <td>183</td>\n",
       "      <td>64</td>\n",
       "      <td>0</td>\n",
       "      <td>0</td>\n",
       "      <td>23.3</td>\n",
       "      <td>0.672</td>\n",
       "      <td>32</td>\n",
       "      <td>1</td>\n",
       "    </tr>\n",
       "    <tr>\n",
       "      <th>3</th>\n",
       "      <td>3</td>\n",
       "      <td>1</td>\n",
       "      <td>89</td>\n",
       "      <td>66</td>\n",
       "      <td>23</td>\n",
       "      <td>94</td>\n",
       "      <td>28.1</td>\n",
       "      <td>0.167</td>\n",
       "      <td>21</td>\n",
       "      <td>0</td>\n",
       "    </tr>\n",
       "    <tr>\n",
       "      <th>4</th>\n",
       "      <td>4</td>\n",
       "      <td>0</td>\n",
       "      <td>137</td>\n",
       "      <td>40</td>\n",
       "      <td>35</td>\n",
       "      <td>168</td>\n",
       "      <td>43.1</td>\n",
       "      <td>2.288</td>\n",
       "      <td>33</td>\n",
       "      <td>1</td>\n",
       "    </tr>\n",
       "  </tbody>\n",
       "</table>\n",
       "</div>"
      ],
      "text/plain": [
       "   Unnamed: 0  Pregnancies  Glucose  BloodPressure  SkinThickness  Insulin  \\\n",
       "0           0            6      148             72             35        0   \n",
       "1           1            1       85             66             29        0   \n",
       "2           2            8      183             64              0        0   \n",
       "3           3            1       89             66             23       94   \n",
       "4           4            0      137             40             35      168   \n",
       "\n",
       "    BMI  DiabetesPedigreeFunction  Age  Outcome  \n",
       "0  33.6                     0.627   50        1  \n",
       "1  26.6                     0.351   31        0  \n",
       "2  23.3                     0.672   32        1  \n",
       "3  28.1                     0.167   21        0  \n",
       "4  43.1                     2.288   33        1  "
      ]
     },
     "execution_count": 223,
     "metadata": {},
     "output_type": "execute_result"
    }
   ],
   "source": [
    "data.head()"
   ]
  },
  {
   "cell_type": "markdown",
   "id": "7a50ff54-1962-446c-8087-21118f50ebf3",
   "metadata": {},
   "source": [
    "# \n",
    "Pregnancies: The number of times the patient has been pregnant.\n",
    "\n",
    "\n",
    "Glucose: The plasma glucose concentration in an oral glucose tolerance test (measured in mg/dL) after fasting.\n",
    "\n",
    "\n",
    "BloodPressure: The diastolic blood pressure (measured in mmHg) recorded during the patient's visit.\n",
    "\n",
    "\n",
    "SkinThickness: The thickness of the skin at the triceps (measured in mm) which is an indicator of subcutaneous fat.\n",
    "\n",
    "\n",
    "Insulin: The insulin level (measured in micro U/mL) in the blood after fasting.\n",
    "\n",
    "\n",
    "BMI: Body Mass Index (calculated as weight in kg divided by height in m²). It is an indicator of body fat.\n",
    "\n",
    "\n",
    "DiabetesPedigreeFunction: A function that provides a score based on the family history of diabetes and other factors. It is a measure of how likely the patient is to develop diabetes based on genetic and environmental factors.\n",
    "\n",
    "\n",
    "Age: The age of the patient (in years).\n",
    "\n",
    "\n",
    "Outcome: The target variable indicating whether the patient has diabetes (1) or not (0). This is what you'll be predicting.\n",
    "\n",
    "\n"
   ]
  },
  {
   "cell_type": "code",
   "execution_count": 225,
   "id": "6140cc47-6088-4e45-94b3-b67b607a6119",
   "metadata": {},
   "outputs": [
    {
     "data": {
      "text/html": [
       "<div>\n",
       "<style scoped>\n",
       "    .dataframe tbody tr th:only-of-type {\n",
       "        vertical-align: middle;\n",
       "    }\n",
       "\n",
       "    .dataframe tbody tr th {\n",
       "        vertical-align: top;\n",
       "    }\n",
       "\n",
       "    .dataframe thead th {\n",
       "        text-align: right;\n",
       "    }\n",
       "</style>\n",
       "<table border=\"1\" class=\"dataframe\">\n",
       "  <thead>\n",
       "    <tr style=\"text-align: right;\">\n",
       "      <th></th>\n",
       "      <th>Unnamed: 0</th>\n",
       "      <th>Pregnancies</th>\n",
       "      <th>Glucose</th>\n",
       "      <th>BloodPressure</th>\n",
       "      <th>SkinThickness</th>\n",
       "      <th>Insulin</th>\n",
       "      <th>BMI</th>\n",
       "      <th>DiabetesPedigreeFunction</th>\n",
       "      <th>Age</th>\n",
       "      <th>Outcome</th>\n",
       "    </tr>\n",
       "  </thead>\n",
       "  <tbody>\n",
       "    <tr>\n",
       "      <th>763</th>\n",
       "      <td>763</td>\n",
       "      <td>10</td>\n",
       "      <td>101</td>\n",
       "      <td>76</td>\n",
       "      <td>48</td>\n",
       "      <td>180</td>\n",
       "      <td>32.9</td>\n",
       "      <td>0.171</td>\n",
       "      <td>63</td>\n",
       "      <td>0</td>\n",
       "    </tr>\n",
       "    <tr>\n",
       "      <th>764</th>\n",
       "      <td>764</td>\n",
       "      <td>2</td>\n",
       "      <td>122</td>\n",
       "      <td>70</td>\n",
       "      <td>27</td>\n",
       "      <td>0</td>\n",
       "      <td>36.8</td>\n",
       "      <td>0.340</td>\n",
       "      <td>27</td>\n",
       "      <td>0</td>\n",
       "    </tr>\n",
       "    <tr>\n",
       "      <th>765</th>\n",
       "      <td>765</td>\n",
       "      <td>5</td>\n",
       "      <td>121</td>\n",
       "      <td>72</td>\n",
       "      <td>23</td>\n",
       "      <td>112</td>\n",
       "      <td>26.2</td>\n",
       "      <td>0.245</td>\n",
       "      <td>30</td>\n",
       "      <td>0</td>\n",
       "    </tr>\n",
       "    <tr>\n",
       "      <th>766</th>\n",
       "      <td>766</td>\n",
       "      <td>1</td>\n",
       "      <td>126</td>\n",
       "      <td>60</td>\n",
       "      <td>0</td>\n",
       "      <td>0</td>\n",
       "      <td>30.1</td>\n",
       "      <td>0.349</td>\n",
       "      <td>47</td>\n",
       "      <td>1</td>\n",
       "    </tr>\n",
       "    <tr>\n",
       "      <th>767</th>\n",
       "      <td>767</td>\n",
       "      <td>1</td>\n",
       "      <td>93</td>\n",
       "      <td>70</td>\n",
       "      <td>31</td>\n",
       "      <td>0</td>\n",
       "      <td>30.4</td>\n",
       "      <td>0.315</td>\n",
       "      <td>23</td>\n",
       "      <td>0</td>\n",
       "    </tr>\n",
       "  </tbody>\n",
       "</table>\n",
       "</div>"
      ],
      "text/plain": [
       "     Unnamed: 0  Pregnancies  Glucose  BloodPressure  SkinThickness  Insulin  \\\n",
       "763         763           10      101             76             48      180   \n",
       "764         764            2      122             70             27        0   \n",
       "765         765            5      121             72             23      112   \n",
       "766         766            1      126             60              0        0   \n",
       "767         767            1       93             70             31        0   \n",
       "\n",
       "      BMI  DiabetesPedigreeFunction  Age  Outcome  \n",
       "763  32.9                     0.171   63        0  \n",
       "764  36.8                     0.340   27        0  \n",
       "765  26.2                     0.245   30        0  \n",
       "766  30.1                     0.349   47        1  \n",
       "767  30.4                     0.315   23        0  "
      ]
     },
     "execution_count": 225,
     "metadata": {},
     "output_type": "execute_result"
    }
   ],
   "source": [
    "data.tail()"
   ]
  },
  {
   "cell_type": "markdown",
   "id": "ca610412-78a5-4418-a500-a93f79199c14",
   "metadata": {},
   "source": [
    "# Dataset Dimensions\n",
    "Objective: Determine the dimensions of the dataset to understand its size and structure.\n",
    "\n",
    "Description: The data.shape attribute provides the number of rows and columns in the dataset. This is essential for understanding the scale of the data and planning the subsequent data analysis steps."
   ]
  },
  {
   "cell_type": "code",
   "execution_count": 227,
   "id": "10ab6fb1-334a-43f4-979e-d5f1d67c253b",
   "metadata": {},
   "outputs": [
    {
     "data": {
      "text/plain": [
       "(768, 10)"
      ]
     },
     "execution_count": 227,
     "metadata": {},
     "output_type": "execute_result"
    }
   ],
   "source": [
    "data.shape"
   ]
  },
  {
   "cell_type": "markdown",
   "id": "c106f1a6-a760-4143-94d9-111ef834bc96",
   "metadata": {},
   "source": [
    "# Dataset Information\n",
    "Objective: Obtain detailed information about the dataset’s structure, including data types and non-null counts.\n",
    "\n",
    "Description: The data.info() method provides a summary of the dataset, including the number of non-null entries for each column, the data type of each column, and the memory usage of the DataFrame. This helps in identifying missing values and understanding the data types of different columns."
   ]
  },
  {
   "cell_type": "code",
   "execution_count": 229,
   "id": "53c0a850-c334-4de9-90ec-0c16867aa2c1",
   "metadata": {},
   "outputs": [
    {
     "name": "stdout",
     "output_type": "stream",
     "text": [
      "<class 'pandas.core.frame.DataFrame'>\n",
      "RangeIndex: 768 entries, 0 to 767\n",
      "Data columns (total 10 columns):\n",
      " #   Column                    Non-Null Count  Dtype  \n",
      "---  ------                    --------------  -----  \n",
      " 0   Unnamed: 0                768 non-null    int64  \n",
      " 1   Pregnancies               768 non-null    int64  \n",
      " 2   Glucose                   768 non-null    int64  \n",
      " 3   BloodPressure             768 non-null    int64  \n",
      " 4   SkinThickness             768 non-null    int64  \n",
      " 5   Insulin                   768 non-null    int64  \n",
      " 6   BMI                       768 non-null    float64\n",
      " 7   DiabetesPedigreeFunction  768 non-null    float64\n",
      " 8   Age                       768 non-null    int64  \n",
      " 9   Outcome                   768 non-null    int64  \n",
      "dtypes: float64(2), int64(8)\n",
      "memory usage: 60.1 KB\n"
     ]
    }
   ],
   "source": [
    "data.info()"
   ]
  },
  {
   "cell_type": "markdown",
   "id": "64f7065d-0844-41fb-a86f-4ba4f7a392e2",
   "metadata": {},
   "source": [
    "# Missing Values Analysis\n",
    "Objective: Identify and quantify missing values in the dataset.\n",
    "\n",
    "Description: The data.isnull().sum() method is used to check for missing values in each column of the dataset. It returns a Series where the index is the column names and the values are the counts of missing entries for each column. This step helps in understanding the extent of missing data and planning the appropriate strategies for handling it."
   ]
  },
  {
   "cell_type": "code",
   "execution_count": 231,
   "id": "018140d4-c26a-4824-9af0-07497b557837",
   "metadata": {},
   "outputs": [
    {
     "data": {
      "text/plain": [
       "Unnamed: 0                  0\n",
       "Pregnancies                 0\n",
       "Glucose                     0\n",
       "BloodPressure               0\n",
       "SkinThickness               0\n",
       "Insulin                     0\n",
       "BMI                         0\n",
       "DiabetesPedigreeFunction    0\n",
       "Age                         0\n",
       "Outcome                     0\n",
       "dtype: int64"
      ]
     },
     "execution_count": 231,
     "metadata": {},
     "output_type": "execute_result"
    }
   ],
   "source": [
    "data.isnull().sum()"
   ]
  },
  {
   "cell_type": "markdown",
   "id": "519c148e-7882-4925-a6f3-30bf91159125",
   "metadata": {},
   "source": [
    "# Summary Statistics\n",
    "Objective: Generate descriptive statistics for numerical columns in the dataset.\n",
    "\n",
    "Description: The data.describe() method provides a summary of key statistical metrics for each numerical column in the DataFrame. This includes measures such as mean, standard deviation, minimum, maximum, and quantiles. It helps in understanding the distribution and central tendencies of the features.\n",
    "\n",
    "Count: Number of non-null entries for each column.\n",
    "\n",
    "Mean: Average value of the entries in each column.\n",
    "\n",
    "Standard Deviation: Measure of the dispersion or variability of the values.\n",
    "\n",
    "Minimum: The smallest value in each column.\n",
    "\n",
    "25th Percentile (Q1): The value below which 25% of the data falls.\n",
    "\n",
    "50th Percentile (Median or Q2): The middle value where 50% of the data falls below and above.\n",
    "\n",
    "75th Percentile (Q3): The value below which 75% of the data falls.\n",
    "\n",
    "Maximum: The largest value in each column."
   ]
  },
  {
   "cell_type": "code",
   "execution_count": 233,
   "id": "9cb9d4ac-9fa6-456d-831a-046e7ac7b32c",
   "metadata": {},
   "outputs": [
    {
     "data": {
      "text/html": [
       "<div>\n",
       "<style scoped>\n",
       "    .dataframe tbody tr th:only-of-type {\n",
       "        vertical-align: middle;\n",
       "    }\n",
       "\n",
       "    .dataframe tbody tr th {\n",
       "        vertical-align: top;\n",
       "    }\n",
       "\n",
       "    .dataframe thead th {\n",
       "        text-align: right;\n",
       "    }\n",
       "</style>\n",
       "<table border=\"1\" class=\"dataframe\">\n",
       "  <thead>\n",
       "    <tr style=\"text-align: right;\">\n",
       "      <th></th>\n",
       "      <th>Unnamed: 0</th>\n",
       "      <th>Pregnancies</th>\n",
       "      <th>Glucose</th>\n",
       "      <th>BloodPressure</th>\n",
       "      <th>SkinThickness</th>\n",
       "      <th>Insulin</th>\n",
       "      <th>BMI</th>\n",
       "      <th>DiabetesPedigreeFunction</th>\n",
       "      <th>Age</th>\n",
       "      <th>Outcome</th>\n",
       "    </tr>\n",
       "  </thead>\n",
       "  <tbody>\n",
       "    <tr>\n",
       "      <th>count</th>\n",
       "      <td>768.000000</td>\n",
       "      <td>768.000000</td>\n",
       "      <td>768.000000</td>\n",
       "      <td>768.000000</td>\n",
       "      <td>768.000000</td>\n",
       "      <td>768.000000</td>\n",
       "      <td>768.000000</td>\n",
       "      <td>768.000000</td>\n",
       "      <td>768.000000</td>\n",
       "      <td>768.000000</td>\n",
       "    </tr>\n",
       "    <tr>\n",
       "      <th>mean</th>\n",
       "      <td>383.500000</td>\n",
       "      <td>3.845052</td>\n",
       "      <td>120.894531</td>\n",
       "      <td>69.105469</td>\n",
       "      <td>20.536458</td>\n",
       "      <td>79.799479</td>\n",
       "      <td>31.992578</td>\n",
       "      <td>0.471876</td>\n",
       "      <td>33.240885</td>\n",
       "      <td>0.348958</td>\n",
       "    </tr>\n",
       "    <tr>\n",
       "      <th>std</th>\n",
       "      <td>221.846794</td>\n",
       "      <td>3.369578</td>\n",
       "      <td>31.972618</td>\n",
       "      <td>19.355807</td>\n",
       "      <td>15.952218</td>\n",
       "      <td>115.244002</td>\n",
       "      <td>7.884160</td>\n",
       "      <td>0.331329</td>\n",
       "      <td>11.760232</td>\n",
       "      <td>0.476951</td>\n",
       "    </tr>\n",
       "    <tr>\n",
       "      <th>min</th>\n",
       "      <td>0.000000</td>\n",
       "      <td>0.000000</td>\n",
       "      <td>0.000000</td>\n",
       "      <td>0.000000</td>\n",
       "      <td>0.000000</td>\n",
       "      <td>0.000000</td>\n",
       "      <td>0.000000</td>\n",
       "      <td>0.078000</td>\n",
       "      <td>21.000000</td>\n",
       "      <td>0.000000</td>\n",
       "    </tr>\n",
       "    <tr>\n",
       "      <th>25%</th>\n",
       "      <td>191.750000</td>\n",
       "      <td>1.000000</td>\n",
       "      <td>99.000000</td>\n",
       "      <td>62.000000</td>\n",
       "      <td>0.000000</td>\n",
       "      <td>0.000000</td>\n",
       "      <td>27.300000</td>\n",
       "      <td>0.243750</td>\n",
       "      <td>24.000000</td>\n",
       "      <td>0.000000</td>\n",
       "    </tr>\n",
       "    <tr>\n",
       "      <th>50%</th>\n",
       "      <td>383.500000</td>\n",
       "      <td>3.000000</td>\n",
       "      <td>117.000000</td>\n",
       "      <td>72.000000</td>\n",
       "      <td>23.000000</td>\n",
       "      <td>30.500000</td>\n",
       "      <td>32.000000</td>\n",
       "      <td>0.372500</td>\n",
       "      <td>29.000000</td>\n",
       "      <td>0.000000</td>\n",
       "    </tr>\n",
       "    <tr>\n",
       "      <th>75%</th>\n",
       "      <td>575.250000</td>\n",
       "      <td>6.000000</td>\n",
       "      <td>140.250000</td>\n",
       "      <td>80.000000</td>\n",
       "      <td>32.000000</td>\n",
       "      <td>127.250000</td>\n",
       "      <td>36.600000</td>\n",
       "      <td>0.626250</td>\n",
       "      <td>41.000000</td>\n",
       "      <td>1.000000</td>\n",
       "    </tr>\n",
       "    <tr>\n",
       "      <th>max</th>\n",
       "      <td>767.000000</td>\n",
       "      <td>17.000000</td>\n",
       "      <td>199.000000</td>\n",
       "      <td>122.000000</td>\n",
       "      <td>99.000000</td>\n",
       "      <td>846.000000</td>\n",
       "      <td>67.100000</td>\n",
       "      <td>2.420000</td>\n",
       "      <td>81.000000</td>\n",
       "      <td>1.000000</td>\n",
       "    </tr>\n",
       "  </tbody>\n",
       "</table>\n",
       "</div>"
      ],
      "text/plain": [
       "       Unnamed: 0  Pregnancies     Glucose  BloodPressure  SkinThickness  \\\n",
       "count  768.000000   768.000000  768.000000     768.000000     768.000000   \n",
       "mean   383.500000     3.845052  120.894531      69.105469      20.536458   \n",
       "std    221.846794     3.369578   31.972618      19.355807      15.952218   \n",
       "min      0.000000     0.000000    0.000000       0.000000       0.000000   \n",
       "25%    191.750000     1.000000   99.000000      62.000000       0.000000   \n",
       "50%    383.500000     3.000000  117.000000      72.000000      23.000000   \n",
       "75%    575.250000     6.000000  140.250000      80.000000      32.000000   \n",
       "max    767.000000    17.000000  199.000000     122.000000      99.000000   \n",
       "\n",
       "          Insulin         BMI  DiabetesPedigreeFunction         Age  \\\n",
       "count  768.000000  768.000000                768.000000  768.000000   \n",
       "mean    79.799479   31.992578                  0.471876   33.240885   \n",
       "std    115.244002    7.884160                  0.331329   11.760232   \n",
       "min      0.000000    0.000000                  0.078000   21.000000   \n",
       "25%      0.000000   27.300000                  0.243750   24.000000   \n",
       "50%     30.500000   32.000000                  0.372500   29.000000   \n",
       "75%    127.250000   36.600000                  0.626250   41.000000   \n",
       "max    846.000000   67.100000                  2.420000   81.000000   \n",
       "\n",
       "          Outcome  \n",
       "count  768.000000  \n",
       "mean     0.348958  \n",
       "std      0.476951  \n",
       "min      0.000000  \n",
       "25%      0.000000  \n",
       "50%      0.000000  \n",
       "75%      1.000000  \n",
       "max      1.000000  "
      ]
     },
     "execution_count": 233,
     "metadata": {},
     "output_type": "execute_result"
    }
   ],
   "source": [
    "data.describe()"
   ]
  },
  {
   "cell_type": "markdown",
   "id": "77b467e4-bca7-4f2e-98ea-03c9f75a9d04",
   "metadata": {},
   "source": [
    "# Data Copy and Column Inspection\n",
    "Objective: Create a deep copy of the dataset and inspect column names and missing values in the copied dataset.\n",
    "\n",
    "Description: A deep copy of the dataset is created to ensure that any modifications made to the copied dataset do not affect the original dataset. The column names are then inspected, and the count of missing values in the copied dataset is checked to confirm that the missing data analysis is accurate."
   ]
  },
  {
   "cell_type": "code",
   "execution_count": 235,
   "id": "285fb579-b50f-4298-afcc-ec47be822b9f",
   "metadata": {},
   "outputs": [],
   "source": [
    "import numpy as np\n"
   ]
  },
  {
   "cell_type": "code",
   "execution_count": 236,
   "id": "2a6ffef4-d0a7-4380-a22c-54196621efd5",
   "metadata": {},
   "outputs": [
    {
     "data": {
      "text/plain": [
       "Index(['Unnamed: 0', 'Pregnancies', 'Glucose', 'BloodPressure',\n",
       "       'SkinThickness', 'Insulin', 'BMI', 'DiabetesPedigreeFunction', 'Age',\n",
       "       'Outcome'],\n",
       "      dtype='object')"
      ]
     },
     "execution_count": 236,
     "metadata": {},
     "output_type": "execute_result"
    }
   ],
   "source": [
    "data_copy=data.copy(deep=True)\n",
    "data.columns"
   ]
  },
  {
   "cell_type": "markdown",
   "id": "4a33d7f9-77a5-46ce-af4a-e483cd8b8fd1",
   "metadata": {},
   "source": [
    "# Handling Zero Values\n",
    "Objective: Replace zero values in specific columns with NaN to handle potential data issues.\n",
    "\n",
    "Description: In the dataset, certain columns such as 'Glucose', 'BloodPressure', 'SkinThickness', 'Insulin', and 'BMI' may contain zero values that might be considered invalid or indicative of missing data. To address this, zero values in these columns are replaced with np.nan (Not a Number) to facilitate more accurate handling of missing data.\n",
    "\n",
    "# Purpose:\n",
    "\n",
    "Data Cleaning: To handle zero values that may represent missing or invalid data points rather than actual measurements.\n",
    "\n",
    "Improved Analysis: To ensure that the dataset accurately reflects missing values, enabling appropriate imputation or analysis strategies to be applied.\n",
    "\n",
    "Consistency: To standardize how missing data is represented and facilitate better preprocessing and modeling."
   ]
  },
  {
   "cell_type": "code",
   "execution_count": 238,
   "id": "51a42f63-2026-4a4a-973e-f4d0a7a5606c",
   "metadata": {},
   "outputs": [],
   "source": [
    "data_copy[['Glucose', 'BloodPressure','SkinThickness', 'Insulin', 'BMI']]=data_copy[['Glucose', 'BloodPressure','SkinThickness', 'Insulin', 'BMI']].replace(0,np.nan)"
   ]
  },
  {
   "cell_type": "markdown",
   "id": "de669987-25e3-4adc-880a-9d79c31c1d35",
   "metadata": {},
   "source": [
    "# Missing Values Check in Copied Dataset\n",
    "Objective: Reassess missing values after replacing zeros with NaN.\n",
    "\n",
    "Description: The data_copy.isnull().sum() method is used to recalculate the number of missing values in each column of the dataset after replacing zero values with NaN. This step helps to verify the extent of missing data and ensures that the replacement process was successful."
   ]
  },
  {
   "cell_type": "code",
   "execution_count": 240,
   "id": "5f99c809-376f-4006-a485-4a7b3fa26d3c",
   "metadata": {},
   "outputs": [
    {
     "data": {
      "text/plain": [
       "Unnamed: 0                    0\n",
       "Pregnancies                   0\n",
       "Glucose                       5\n",
       "BloodPressure                35\n",
       "SkinThickness               227\n",
       "Insulin                     374\n",
       "BMI                          11\n",
       "DiabetesPedigreeFunction      0\n",
       "Age                           0\n",
       "Outcome                       0\n",
       "dtype: int64"
      ]
     },
     "execution_count": 240,
     "metadata": {},
     "output_type": "execute_result"
    }
   ],
   "source": [
    "data_copy.isnull().sum()"
   ]
  },
  {
   "cell_type": "markdown",
   "id": "3e4acee8-155f-4798-9bc9-3ff51167eb14",
   "metadata": {},
   "source": [
    "# Imputation of Missing Values\n",
    "Objective: Replace missing values with the mean of their respective columns.\n",
    "\n",
    "Description: After identifying columns with missing values (previously zeros replaced with NaN), the missing values in specific columns ('Glucose', 'BloodPressure', 'SkinThickness', 'Insulin', 'BMI') are imputed with the mean of each column. This step addresses missing data by filling in gaps with the average value of the respective columns, ensuring that the dataset is complete and ready for analysis."
   ]
  },
  {
   "cell_type": "code",
   "execution_count": 242,
   "id": "d6f8a549-b1c0-42d7-a593-c37b7a0466ab",
   "metadata": {},
   "outputs": [],
   "source": [
    "data['Glucose']= data['Glucose'].replace(0, data['Glucose'].mean())\n",
    "data['BloodPressure']= data['BloodPressure'].replace(0, data['BloodPressure'].mean())\n",
    "data['SkinThickness']= data['SkinThickness'].replace(0, data['SkinThickness'].mean())\n",
    "data['Insulin']= data['Insulin'].replace(0, data['Insulin'].mean())\n",
    "data['BMI']= data['BMI'].replace(0, data['BMI'].mean())\n"
   ]
  },
  {
   "cell_type": "markdown",
   "id": "40bd4aa8-becc-4a5a-b86b-dd97c5de5db2",
   "metadata": {},
   "source": [
    "# Drop Unnecessary Column\n",
    "Objective: Remove an irrelevant or redundant column from the dataset.\n",
    "\n",
    "Description: The column named 'Unnamed: 0' is dropped from the dataset. This column is typically an index column that may have been included unintentionally when the dataset was saved or loaded. Removing this column ensures that it does not interfere with the data analysis or modeling processes."
   ]
  },
  {
   "cell_type": "code",
   "execution_count": 244,
   "id": "240291ce-198f-4485-88e5-46416d050040",
   "metadata": {},
   "outputs": [],
   "source": [
    "data = data.drop('Unnamed: 0', axis=1)"
   ]
  },
  {
   "cell_type": "code",
   "execution_count": null,
   "id": "a5b814df-c1f6-48a6-8ac6-e20d9e626463",
   "metadata": {},
   "outputs": [],
   "source": []
  },
  {
   "cell_type": "markdown",
   "id": "47ed5435-862a-4930-a2ab-6376485e0c4e",
   "metadata": {},
   "source": [
    "# Correlation Heatmap\n",
    "Objective: Visualize the correlation between different features in the dataset.\n",
    "\n",
    "Description: A heatmap is plotted to show the correlation matrix of the dataset. The correlation matrix represents the pairwise correlation coefficients between features, highlighting the strength and direction of linear relationships. The heatmap uses color gradients to make it easier to identify which features are positively or negatively correlated.\n",
    "Positive values indicate a positive correlation (as one feature increases, the other tends to increase), while negative values indicate a negative correlation (as one feature increases, the other tends to decrease)."
   ]
  },
  {
   "cell_type": "code",
   "execution_count": 246,
   "id": "e1833840-36bc-4208-8d28-ce61d342d629",
   "metadata": {},
   "outputs": [
    {
     "data": {
      "image/png": "[encoded data removed]",
      "text/plain": [
       "<Figure size 1000x800 with 2 Axes>"
      ]
     },
     "metadata": {},
     "output_type": "display_data"
    }
   ],
   "source": [
    "import matplotlib.pyplot as plt  # Correct import for pyplot\n",
    "import seaborn as sns\n",
    "\n",
    "# Set up the matplotlib figure\n",
    "plt.figure(figsize=(10, 8))\n",
    "\n",
    "# Calculate the correlation matrix\n",
    "correlation_matrix = data.corr()\n",
    "\n",
    "# Plot the heatmap\n",
    "sns.heatmap(correlation_matrix, annot=True, cmap='coolwarm', fmt='.2f')\n",
    "\n",
    "# Set the title\n",
    "plt.title('Correlation Heatmap')\n",
    "\n",
    "# Display the heatmap\n",
    "plt.show()\n"
   ]
  },
  {
   "cell_type": "code",
   "execution_count": null,
   "id": "c7e54d84-ffaa-4c1a-ac6b-c33ad3badcbd",
   "metadata": {},
   "outputs": [],
   "source": []
  },
  {
   "cell_type": "markdown",
   "id": "80efd99c-0401-450f-8e65-7340ce230fb3",
   "metadata": {},
   "source": [
    "# Bar Plot: Count of Individuals by Diabetes Outcome\n",
    "Objective: To visualize the distribution of individuals in the dataset based on their diabetes status.\n",
    "\n",
    "Description: This bar plot displays the count of individuals categorized by their diabetes outcome. It shows the number of individuals with and without diabetes, providing a clear view of the class distribution in the dataset."
   ]
  },
  {
   "cell_type": "code",
   "execution_count": 248,
   "id": "4ebbbc3f-6411-4bce-93bd-82b90ec3e5b8",
   "metadata": {},
   "outputs": [
    {
     "name": "stderr",
     "output_type": "stream",
     "text": [
      "C:\\Users\\jisha\\AppData\\Local\\Temp\\ipykernel_16724\\1067218188.py:9: FutureWarning: \n",
      "\n",
      "Passing `palette` without assigning `hue` is deprecated and will be removed in v0.14.0. Assign the `x` variable to `hue` and set `legend=False` for the same effect.\n",
      "\n",
      "  sns.barplot(x=outcome_counts.index, y=outcome_counts.values, palette='viridis')\n"
     ]
    },
    {
     "data": {
      "image/png": "[encoded data removed]",
      "text/plain": [
       "<Figure size 800x600 with 1 Axes>"
      ]
     },
     "metadata": {},
     "output_type": "display_data"
    }
   ],
   "source": [
    "import matplotlib.pyplot as plt\n",
    "import seaborn as sns\n",
    "\n",
    "# Count of individuals by outcome\n",
    "outcome_counts = data['Outcome'].value_counts()\n",
    "\n",
    "# Create bar plot\n",
    "plt.figure(figsize=(8, 6))\n",
    "sns.barplot(x=outcome_counts.index, y=outcome_counts.values, palette='viridis')\n",
    "plt.xlabel('Diabetes Outcome')\n",
    "plt.ylabel('Count')\n",
    "plt.title('Count of Individuals by Diabetes Outcome')\n",
    "plt.xticks([0, 1], ['No Diabetes (0)', 'Diabetes (1)'])\n",
    "plt.show()\n"
   ]
  },
  {
   "cell_type": "markdown",
   "id": "dd263549-dc56-4d4c-b3b1-567b2d9cf34b",
   "metadata": {},
   "source": [
    "#\n",
    "In this dataset, there are 500 individuals without diabetes and 268 individuals with diabetes out of a total of 768 rows. This visualization helps in understanding the class distribution, which is crucial for designing and evaluating predictive models.\n",
    "\n",
    "\n",
    "\n",
    "\n",
    "\n",
    "\n",
    "\n"
   ]
  },
  {
   "cell_type": "code",
   "execution_count": null,
   "id": "441d3f6f-b0e3-4713-b7a1-64c25e95429f",
   "metadata": {},
   "outputs": [],
   "source": []
  },
  {
   "cell_type": "markdown",
   "id": "9c20cf94-60f7-4945-ad29-d84fb8ca458e",
   "metadata": {},
   "source": [
    "# Bar Plot: Average Feature Values by Diabetes Outcome\n",
    "Objective: To visualize the average values of various features in the dataset, segmented by diabetes outcome (0 or 1).\n",
    "\n",
    "Description: This bar plot provides a comparative analysis of the average values for multiple features, categorized by the diabetes outcome. It helps to understand how the average measurements of features differ between individuals with diabetes and those without."
   ]
  },
  {
   "cell_type": "code",
   "execution_count": 251,
   "id": "c119fe9c-e96b-4cda-a4dd-acba89a77ccf",
   "metadata": {},
   "outputs": [
    {
     "data": {
      "image/png": "[encoded data removed]",
      "text/plain": [
       "<Figure size 1500x1000 with 1 Axes>"
      ]
     },
     "metadata": {},
     "output_type": "display_data"
    }
   ],
   "source": [
    "import matplotlib.pyplot as plt\n",
    "import seaborn as sns\n",
    "\n",
    "# Convert the DataFrame to long format for bar plotting\n",
    "import pandas as pd\n",
    "\n",
    "# Prepare data for plotting\n",
    "data_long = pd.melt(data, id_vars='Outcome', value_vars=['Pregnancies', 'Glucose', 'BloodPressure', 'SkinThickness', 'Insulin', 'BMI', 'DiabetesPedigreeFunction', 'Age'])\n",
    "\n",
    "# Create the bar plot\n",
    "plt.figure(figsize=(15, 10))\n",
    "\n",
    "sns.barplot(x='variable', y='value', hue='Outcome', data=data_long, palette='viridis')\n",
    "plt.xlabel('Features')\n",
    "plt.ylabel('Average Value')\n",
    "plt.title('Average Feature Values by Diabetes Outcome')\n",
    "plt.xticks(rotation=45)\n",
    "plt.show()\n"
   ]
  },
  {
   "cell_type": "markdown",
   "id": "7739663b-22cf-41a0-9112-6aedce8a39f2",
   "metadata": {},
   "source": [
    "#\n",
    "This visualization highlights how the average values of various features differ between those with diabetes and those without, which can be crucial for understanding the factors associated with diabetes and developing effective predictive models."
   ]
  },
  {
   "cell_type": "markdown",
   "id": "4d12850a-56a9-40e4-b964-2254b1ddf9d5",
   "metadata": {},
   "source": [
    "# Data Preparation: Feature and Target Separation\n",
    "Objective: To prepare the dataset for model training by separating the features from the target variable.\n",
    "\n",
    "Description: This step involves dividing the dataset into input features and the target variable. The input features are used to train the machine learning models, while the target variable (outcome) represents the label that the models will learn to predict.\n",
    "\n",
    "By splitting the dataset into features (x) and target variable (y), you can now proceed with training machine learning models and evaluating their performance based on the Outcome you want to predict."
   ]
  },
  {
   "cell_type": "code",
   "execution_count": 254,
   "id": "2013ad88-4efd-4de7-b378-053d13a7868c",
   "metadata": {},
   "outputs": [],
   "source": [
    "x = data.drop('Outcome', axis=1)\n",
    "\n",
    "y = data['Outcome']\n"
   ]
  },
  {
   "cell_type": "code",
   "execution_count": 255,
   "id": "824a5b68-63e3-40cb-a082-1bedc49d0330",
   "metadata": {},
   "outputs": [
    {
     "data": {
      "text/html": [
       "<div>\n",
       "<style scoped>\n",
       "    .dataframe tbody tr th:only-of-type {\n",
       "        vertical-align: middle;\n",
       "    }\n",
       "\n",
       "    .dataframe tbody tr th {\n",
       "        vertical-align: top;\n",
       "    }\n",
       "\n",
       "    .dataframe thead th {\n",
       "        text-align: right;\n",
       "    }\n",
       "</style>\n",
       "<table border=\"1\" class=\"dataframe\">\n",
       "  <thead>\n",
       "    <tr style=\"text-align: right;\">\n",
       "      <th></th>\n",
       "      <th>Pregnancies</th>\n",
       "      <th>Glucose</th>\n",
       "      <th>BloodPressure</th>\n",
       "      <th>SkinThickness</th>\n",
       "      <th>Insulin</th>\n",
       "      <th>BMI</th>\n",
       "      <th>DiabetesPedigreeFunction</th>\n",
       "      <th>Age</th>\n",
       "    </tr>\n",
       "  </thead>\n",
       "  <tbody>\n",
       "    <tr>\n",
       "      <th>0</th>\n",
       "      <td>6</td>\n",
       "      <td>148.0</td>\n",
       "      <td>72.0</td>\n",
       "      <td>35.000000</td>\n",
       "      <td>79.799479</td>\n",
       "      <td>33.6</td>\n",
       "      <td>0.627</td>\n",
       "      <td>50</td>\n",
       "    </tr>\n",
       "    <tr>\n",
       "      <th>1</th>\n",
       "      <td>1</td>\n",
       "      <td>85.0</td>\n",
       "      <td>66.0</td>\n",
       "      <td>29.000000</td>\n",
       "      <td>79.799479</td>\n",
       "      <td>26.6</td>\n",
       "      <td>0.351</td>\n",
       "      <td>31</td>\n",
       "    </tr>\n",
       "    <tr>\n",
       "      <th>2</th>\n",
       "      <td>8</td>\n",
       "      <td>183.0</td>\n",
       "      <td>64.0</td>\n",
       "      <td>20.536458</td>\n",
       "      <td>79.799479</td>\n",
       "      <td>23.3</td>\n",
       "      <td>0.672</td>\n",
       "      <td>32</td>\n",
       "    </tr>\n",
       "    <tr>\n",
       "      <th>3</th>\n",
       "      <td>1</td>\n",
       "      <td>89.0</td>\n",
       "      <td>66.0</td>\n",
       "      <td>23.000000</td>\n",
       "      <td>94.000000</td>\n",
       "      <td>28.1</td>\n",
       "      <td>0.167</td>\n",
       "      <td>21</td>\n",
       "    </tr>\n",
       "    <tr>\n",
       "      <th>4</th>\n",
       "      <td>0</td>\n",
       "      <td>137.0</td>\n",
       "      <td>40.0</td>\n",
       "      <td>35.000000</td>\n",
       "      <td>168.000000</td>\n",
       "      <td>43.1</td>\n",
       "      <td>2.288</td>\n",
       "      <td>33</td>\n",
       "    </tr>\n",
       "    <tr>\n",
       "      <th>...</th>\n",
       "      <td>...</td>\n",
       "      <td>...</td>\n",
       "      <td>...</td>\n",
       "      <td>...</td>\n",
       "      <td>...</td>\n",
       "      <td>...</td>\n",
       "      <td>...</td>\n",
       "      <td>...</td>\n",
       "    </tr>\n",
       "    <tr>\n",
       "      <th>763</th>\n",
       "      <td>10</td>\n",
       "      <td>101.0</td>\n",
       "      <td>76.0</td>\n",
       "      <td>48.000000</td>\n",
       "      <td>180.000000</td>\n",
       "      <td>32.9</td>\n",
       "      <td>0.171</td>\n",
       "      <td>63</td>\n",
       "    </tr>\n",
       "    <tr>\n",
       "      <th>764</th>\n",
       "      <td>2</td>\n",
       "      <td>122.0</td>\n",
       "      <td>70.0</td>\n",
       "      <td>27.000000</td>\n",
       "      <td>79.799479</td>\n",
       "      <td>36.8</td>\n",
       "      <td>0.340</td>\n",
       "      <td>27</td>\n",
       "    </tr>\n",
       "    <tr>\n",
       "      <th>765</th>\n",
       "      <td>5</td>\n",
       "      <td>121.0</td>\n",
       "      <td>72.0</td>\n",
       "      <td>23.000000</td>\n",
       "      <td>112.000000</td>\n",
       "      <td>26.2</td>\n",
       "      <td>0.245</td>\n",
       "      <td>30</td>\n",
       "    </tr>\n",
       "    <tr>\n",
       "      <th>766</th>\n",
       "      <td>1</td>\n",
       "      <td>126.0</td>\n",
       "      <td>60.0</td>\n",
       "      <td>20.536458</td>\n",
       "      <td>79.799479</td>\n",
       "      <td>30.1</td>\n",
       "      <td>0.349</td>\n",
       "      <td>47</td>\n",
       "    </tr>\n",
       "    <tr>\n",
       "      <th>767</th>\n",
       "      <td>1</td>\n",
       "      <td>93.0</td>\n",
       "      <td>70.0</td>\n",
       "      <td>31.000000</td>\n",
       "      <td>79.799479</td>\n",
       "      <td>30.4</td>\n",
       "      <td>0.315</td>\n",
       "      <td>23</td>\n",
       "    </tr>\n",
       "  </tbody>\n",
       "</table>\n",
       "<p>768 rows × 8 columns</p>\n",
       "</div>"
      ],
      "text/plain": [
       "     Pregnancies  Glucose  BloodPressure  SkinThickness     Insulin   BMI  \\\n",
       "0              6    148.0           72.0      35.000000   79.799479  33.6   \n",
       "1              1     85.0           66.0      29.000000   79.799479  26.6   \n",
       "2              8    183.0           64.0      20.536458   79.799479  23.3   \n",
       "3              1     89.0           66.0      23.000000   94.000000  28.1   \n",
       "4              0    137.0           40.0      35.000000  168.000000  43.1   \n",
       "..           ...      ...            ...            ...         ...   ...   \n",
       "763           10    101.0           76.0      48.000000  180.000000  32.9   \n",
       "764            2    122.0           70.0      27.000000   79.799479  36.8   \n",
       "765            5    121.0           72.0      23.000000  112.000000  26.2   \n",
       "766            1    126.0           60.0      20.536458   79.799479  30.1   \n",
       "767            1     93.0           70.0      31.000000   79.799479  30.4   \n",
       "\n",
       "     DiabetesPedigreeFunction  Age  \n",
       "0                       0.627   50  \n",
       "1                       0.351   31  \n",
       "2                       0.672   32  \n",
       "3                       0.167   21  \n",
       "4                       2.288   33  \n",
       "..                        ...  ...  \n",
       "763                     0.171   63  \n",
       "764                     0.340   27  \n",
       "765                     0.245   30  \n",
       "766                     0.349   47  \n",
       "767                     0.315   23  \n",
       "\n",
       "[768 rows x 8 columns]"
      ]
     },
     "execution_count": 255,
     "metadata": {},
     "output_type": "execute_result"
    }
   ],
   "source": [
    "x"
   ]
  },
  {
   "cell_type": "markdown",
   "id": "976d48c5-8a56-4da4-bef8-d886dffbe769",
   "metadata": {},
   "source": [
    "# Data Splitting: Training and Test Sets\n",
    "Objective: To split the dataset into training and testing subsets to evaluate the performance of machine learning models.\n",
    "\n",
    "Description: This step involves dividing the dataset into two separate sets: one for training the models and one for testing their performance. This ensures that the models are evaluated on unseen data, providing a measure of how well they generalize to new instances."
   ]
  },
  {
   "cell_type": "code",
   "execution_count": 257,
   "id": "b08054b7-480c-4f95-868d-a5772483ea34",
   "metadata": {},
   "outputs": [],
   "source": [
    "from sklearn.model_selection import train_test_split\n",
    "x_train,x_test,y_train,y_test=train_test_split(x,y,test_size=0.26,random_state=42)"
   ]
  },
  {
   "cell_type": "markdown",
   "id": "cfe2416e-f962-44b4-b514-ee93bb153c8e",
   "metadata": {},
   "source": [
    "# Importing Libraries for Model Building\n",
    "Objective: To import essential libraries and modules for preprocessing data, building, and evaluating machine learning models.\n",
    "\n",
    "Description: This step involves importing various tools from the scikit-learn library necessary for preprocessing data, applying machine learning algorithms, and managing workflows through pipelines."
   ]
  },
  {
   "cell_type": "code",
   "execution_count": 259,
   "id": "701297dc-f6eb-4022-9834-9d68a0bc7db6",
   "metadata": {},
   "outputs": [],
   "source": [
    "from sklearn.preprocessing import StandardScaler\n",
    "from sklearn.linear_model import LogisticRegression\n",
    "from sklearn.neighbors import KNeighborsClassifier\n",
    "from sklearn.svm import SVC\n",
    "from sklearn.tree import DecisionTreeClassifier\n",
    "from sklearn.ensemble import RandomForestClassifier\n",
    "from sklearn.ensemble import GradientBoostingClassifier\n",
    "from sklearn.pipeline import Pipeline\n"
   ]
  },
  {
   "cell_type": "markdown",
   "id": "479ef813-96a9-488b-b339-9bdb6ea9e53c",
   "metadata": {},
   "source": [
    "# Creating Machine Learning Pipelines\n",
    "Objective: To create pipelines that integrate data preprocessing and model training into a streamlined workflow for various classification algorithms.\n",
    "\n",
    "Description: Pipelines are used to automate and standardize the workflow of preprocessing and model training. By combining these steps, you ensure that each model is trained and evaluated in a consistent manner.\n",
    "\n"
   ]
  },
  {
   "cell_type": "markdown",
   "id": "e64bb5e4-bfab-48cd-a437-b7cf2e07074c",
   "metadata": {},
   "source": [
    "Pipeline: Combines preprocessing and model training steps into a single object, ensuring that preprocessing is applied consistently before model training.\n",
    "\n",
    "('scaler', StandardScaler()): Applies feature scaling to standardize the input features. This step is included in pipelines where scaling is necessary (e.g., Logistic Regression, K-Nearest Neighbors, SVC).\n",
    "\n",
    "('lr_classifier', LogisticRegression()): Specifies the logistic regression classifier for the pipeline_lr.\n",
    "\n",
    "('knn_classifier', KNeighborsClassifier()): Specifies the K-Nearest Neighbors classifier for the pipeline_knn.\n",
    "\n",
    "('svc_classifier', SVC()): Specifies the Support Vector Classifier for the pipeline_svc.\n",
    "\n",
    "('dt_classifier', DecisionTreeClassifier()): Specifies the Decision Tree Classifier for the pipeline_dt.\n",
    "\n",
    "('rf_classifier', RandomForestClassifier(max_depth=3)): Specifies the Random Forest Classifier with a maximum depth of 3 for the pipeline_rf.\n",
    "\n",
    "('gbc_classifier', GradientBoostingClassifier()): Specifies the Gradient Boosting Classifier for the pipeline_gbc."
   ]
  },
  {
   "cell_type": "code",
   "execution_count": 262,
   "id": "90da9f50-f469-4830-bed4-11a96dc99417",
   "metadata": {},
   "outputs": [],
   "source": [
    "pipeline_lr = Pipeline([('scaler', StandardScaler()), ('lr_classifier', LogisticRegression())])\n",
    "pipeline_knn = Pipeline([('scaler', StandardScaler()), ('knn_classifier', KNeighborsClassifier())])\n",
    "pipeline_svc = Pipeline([('scaler', StandardScaler()), ('svc_classifier', SVC())])\n",
    "pipeline_dt = Pipeline([('dt_classifier', DecisionTreeClassifier())])\n",
    "pipeline_rf = Pipeline([('rf_classifier', RandomForestClassifier(max_depth=3))])\n",
    "pipeline_gbc = Pipeline([('gbc_classifier', GradientBoostingClassifier())])"
   ]
  },
  {
   "cell_type": "markdown",
   "id": "7875cd21-1651-4490-ac17-f4983309e49e",
   "metadata": {},
   "source": [
    "# Creating a List of Pipelines\n",
    "Objective: To organize and manage multiple machine learning pipelines for easy execution and comparison.\n",
    "\n",
    "Description: This step involves creating a list of predefined pipelines, each configured with a different classification algorithm. This allows for efficient training and evaluation of multiple models using a consistent preprocessing workflow."
   ]
  },
  {
   "cell_type": "code",
   "execution_count": 264,
   "id": "f6701554-8d3e-4677-b998-082e5e097ffa",
   "metadata": {},
   "outputs": [
    {
     "data": {
      "text/plain": [
       "[Pipeline(steps=[('scaler', StandardScaler()),\n",
       "                 ('lr_classifier', LogisticRegression())]),\n",
       " Pipeline(steps=[('scaler', StandardScaler()),\n",
       "                 ('knn_classifier', KNeighborsClassifier())]),\n",
       " Pipeline(steps=[('scaler', StandardScaler()), ('svc_classifier', SVC())]),\n",
       " Pipeline(steps=[('dt_classifier', DecisionTreeClassifier())]),\n",
       " Pipeline(steps=[('rf_classifier', RandomForestClassifier(max_depth=3))]),\n",
       " Pipeline(steps=[('gbc_classifier', GradientBoostingClassifier())])]"
      ]
     },
     "execution_count": 264,
     "metadata": {},
     "output_type": "execute_result"
    }
   ],
   "source": [
    "pipelines= [pipeline_lr,pipeline_knn,pipeline_svc,pipeline_dt,pipeline_rf,pipeline_gbc]\n",
    "pipelines"
   ]
  },
  {
   "cell_type": "markdown",
   "id": "37479a7f-ae93-4043-9be2-aaca6564aa1b",
   "metadata": {},
   "source": [
    "# Fitting Models Using Pipelines\n",
    "Objective: To train each machine learning model using the predefined pipelines on the training data.\n",
    "\n",
    "Description: This step involves fitting each pipeline to the training data, which includes applying the preprocessing steps (such as scaling) and training the machine learning model."
   ]
  },
  {
   "cell_type": "code",
   "execution_count": 266,
   "id": "b3ab006b-a737-4b4d-a28a-b7e54659dc6b",
   "metadata": {},
   "outputs": [],
   "source": [
    "for pipe in pipelines:\n",
    "    pipe.fit(x_train,y_train)"
   ]
  },
  {
   "cell_type": "markdown",
   "id": "1e0d866c-ea08-4bc8-a111-85c39744fe1e",
   "metadata": {},
   "source": [
    "#  Mapping Pipeline Indices to Model Names\n",
    "Objective: To create a dictionary that maps indices to the corresponding machine learning model names for easy reference.\n",
    "\n",
    "Description: This step involves defining a dictionary that associates each pipeline in the list with a descriptive name. This makes it easier to identify and reference each model when evaluating their performance."
   ]
  },
  {
   "cell_type": "code",
   "execution_count": 268,
   "id": "d92120cd-d9d7-4258-8005-3c1bc343bb10",
   "metadata": {},
   "outputs": [],
   "source": [
    "pipe_dict = {\n",
    "    0: 'LR',\n",
    "    1: 'KNN',\n",
    "    2: 'SVC',\n",
    "    3: 'DT',\n",
    "    4: 'RF',\n",
    "    5: 'GBC'\n",
    "}\n"
   ]
  },
  {
   "cell_type": "code",
   "execution_count": 269,
   "id": "2424e447-2cef-49af-89d1-7cfac579a222",
   "metadata": {},
   "outputs": [
    {
     "data": {
      "text/plain": [
       "{0: 'LR', 1: 'KNN', 2: 'SVC', 3: 'DT', 4: 'RF', 5: 'GBC'}"
      ]
     },
     "execution_count": 269,
     "metadata": {},
     "output_type": "execute_result"
    }
   ],
   "source": [
    "pipe_dict"
   ]
  },
  {
   "cell_type": "markdown",
   "id": "5c03b056-b9db-4340-95e0-7257ed9f0bb2",
   "metadata": {},
   "source": [
    "# Evaluating Model Performance\n",
    "Objective: To evaluate and display the test accuracy of each machine learning model using the predefined pipelines.\n",
    "\n",
    "Description: This step involves looping through each pipeline, scoring the model on the test dataset, and printing the accuracy for each model using the descriptive names from the pipe_dict dictionary.\n",
    "\n",
    "This evaluation helps in understanding the effectiveness of each machine learning model and assists in selecting the best-performing model for further analysis or deployment."
   ]
  },
  {
   "cell_type": "code",
   "execution_count": 271,
   "id": "224c3205-c63a-4209-8e6c-1ecfac677276",
   "metadata": {},
   "outputs": [
    {
     "name": "stdout",
     "output_type": "stream",
     "text": [
      "LR Test Accuracy:74.5\n",
      "KNN Test Accuracy:74.5\n",
      "SVC Test Accuracy:75.0\n",
      "DT Test Accuracy:67.5\n",
      "RF Test Accuracy:75.0\n",
      "GBC Test Accuracy:74.0\n"
     ]
    }
   ],
   "source": [
    "for i, model in enumerate(pipelines):\n",
    "    print(\"{} Test Accuracy:{}\".format(pipe_dict[i], model.score(x_test,y_test)*100))\n",
    "    \n"
   ]
  },
  {
   "cell_type": "markdown",
   "id": "f4730f88-4004-4944-b758-e4e9411f2ea5",
   "metadata": {},
   "source": [
    "# \n",
    "the Random Forest Classifier (RF) achieved the highest accuracy of 79%! This suggests that RF is performing well on your dataset compared to the other models"
   ]
  },
  {
   "cell_type": "markdown",
   "id": "853fde8c-9335-453c-9bb0-282fb94b03f5",
   "metadata": {},
   "source": [
    "# Importing RandomForestClassifier\n",
    "Objective: To import the RandomForestClassifier class from scikit-learn, which will be used for building and evaluating a random forest model.\n",
    "\n",
    "Description: This step involves importing the RandomForestClassifier class, a powerful ensemble learning method for classification tasks. Random forests consist of multiple decision trees and aggregate their predictions to improve accuracy and robustness."
   ]
  },
  {
   "cell_type": "code",
   "execution_count": 274,
   "id": "7f63fb6b-cf0b-4089-a822-06eff32dcd52",
   "metadata": {},
   "outputs": [],
   "source": [
    "from sklearn.ensemble import RandomForestClassifier\n"
   ]
  },
  {
   "cell_type": "markdown",
   "id": "7f2cad03-0bd5-4fae-8a76-c92b38147ff0",
   "metadata": {},
   "source": [
    "# Preparing Features and Target Variable\n",
    "Objective: To separate the dataset into input features (X) and the target variable (y) for model training and evaluation.\n",
    "\n",
    "Description: This step involves defining the input features and the target variable by splitting the dataset accordingly. The Outcome column is removed from the features and set as the target variable for classification."
   ]
  },
  {
   "cell_type": "code",
   "execution_count": 276,
   "id": "9288f3cb-ed79-4782-9b4a-0a121bafcd4c",
   "metadata": {},
   "outputs": [],
   "source": [
    "\n",
    "x = data.drop('Outcome', axis=1)  \n",
    "y = data['Outcome'] \n"
   ]
  },
  {
   "cell_type": "markdown",
   "id": "737d90cf-f8c5-4313-9fc1-e0bec9ad7f03",
   "metadata": {},
   "source": [
    "# Initializing RandomForestClassifier\n",
    "Objective: To create an instance of the RandomForestClassifier with specified hyperparameters for training a random forest model.\n",
    "\n",
    "Description: This step involves initializing the RandomForestClassifier with a specified maximum depth for the trees in the forest. The max_depth parameter controls the maximum depth of each tree, which can help prevent overfitting and control model complexity."
   ]
  },
  {
   "cell_type": "code",
   "execution_count": 278,
   "id": "11c45acb-0802-45a2-9322-ed79584bad76",
   "metadata": {},
   "outputs": [],
   "source": [
    "rf =RandomForestClassifier(max_depth=3)"
   ]
  },
  {
   "cell_type": "markdown",
   "id": "83ed3c03-9ebf-4c89-9ad8-5a917ef7ceaa",
   "metadata": {},
   "source": [
    "# Training the Random Forest Classifier\n",
    "Objective: To train the RandomForestClassifier using the provided features and target variable.\n",
    "\n",
    "Description: This step involves fitting the initialized RandomForestClassifier model to the entire dataset. This means the model will learn from the input features (x) and the target variable (y), which includes the information needed to make predictions."
   ]
  },
  {
   "cell_type": "code",
   "execution_count": 280,
   "id": "d691c245-425b-43d9-97c3-01af7d064eb9",
   "metadata": {},
   "outputs": [
    {
     "data": {
      "text/html": [
       "<style>#sk-container-id-2 {\n",
       "  /* Definition of color scheme common for light and dark mode */\n",
       "  --sklearn-color-text: black;\n",
       "  --sklearn-color-line: gray;\n",
       "  /* Definition of color scheme for unfitted estimators */\n",
       "  --sklearn-color-unfitted-level-0: #fff5e6;\n",
       "  --sklearn-color-unfitted-level-1: #f6e4d2;\n",
       "  --sklearn-color-unfitted-level-2: #ffe0b3;\n",
       "  --sklearn-color-unfitted-level-3: chocolate;\n",
       "  /* Definition of color scheme for fitted estimators */\n",
       "  --sklearn-color-fitted-level-0: #f0f8ff;\n",
       "  --sklearn-color-fitted-level-1: #d4ebff;\n",
       "  --sklearn-color-fitted-level-2: #b3dbfd;\n",
       "  --sklearn-color-fitted-level-3: cornflowerblue;\n",
       "\n",
       "  /* Specific color for light theme */\n",
       "  --sklearn-color-text-on-default-background: var(--sg-text-color, var(--theme-code-foreground, var(--jp-content-font-color1, black)));\n",
       "  --sklearn-color-background: var(--sg-background-color, var(--theme-background, var(--jp-layout-color0, white)));\n",
       "  --sklearn-color-border-box: var(--sg-text-color, var(--theme-code-foreground, var(--jp-content-font-color1, black)));\n",
       "  --sklearn-color-icon: #696969;\n",
       "\n",
       "  @media (prefers-color-scheme: dark) {\n",
       "    /* Redefinition of color scheme for dark theme */\n",
       "    --sklearn-color-text-on-default-background: var(--sg-text-color, var(--theme-code-foreground, var(--jp-content-font-color1, white)));\n",
       "    --sklearn-color-background: var(--sg-background-color, var(--theme-background, var(--jp-layout-color0, #111)));\n",
       "    --sklearn-color-border-box: var(--sg-text-color, var(--theme-code-foreground, var(--jp-content-font-color1, white)));\n",
       "    --sklearn-color-icon: #878787;\n",
       "  }\n",
       "}\n",
       "\n",
       "#sk-container-id-2 {\n",
       "  color: var(--sklearn-color-text);\n",
       "}\n",
       "\n",
       "#sk-container-id-2 pre {\n",
       "  padding: 0;\n",
       "}\n",
       "\n",
       "#sk-container-id-2 input.sk-hidden--visually {\n",
       "  border: 0;\n",
       "  clip: rect(1px 1px 1px 1px);\n",
       "  clip: rect(1px, 1px, 1px, 1px);\n",
       "  height: 1px;\n",
       "  margin: -1px;\n",
       "  overflow: hidden;\n",
       "  padding: 0;\n",
       "  position: absolute;\n",
       "  width: 1px;\n",
       "}\n",
       "\n",
       "#sk-container-id-2 div.sk-dashed-wrapped {\n",
       "  border: 1px dashed var(--sklearn-color-line);\n",
       "  margin: 0 0.4em 0.5em 0.4em;\n",
       "  box-sizing: border-box;\n",
       "  padding-bottom: 0.4em;\n",
       "  background-color: var(--sklearn-color-background);\n",
       "}\n",
       "\n",
       "#sk-container-id-2 div.sk-container {\n",
       "  /* jupyter's `normalize.less` sets `[hidden] { display: none; }`\n",
       "     but bootstrap.min.css set `[hidden] { display: none !important; }`\n",
       "     so we also need the `!important` here to be able to override the\n",
       "     default hidden behavior on the sphinx rendered scikit-learn.org.\n",
       "     See: https://github.com/scikit-learn/scikit-learn/issues/21755 */\n",
       "  display: inline-block !important;\n",
       "  position: relative;\n",
       "}\n",
       "\n",
       "#sk-container-id-2 div.sk-text-repr-fallback {\n",
       "  display: none;\n",
       "}\n",
       "\n",
       "div.sk-parallel-item,\n",
       "div.sk-serial,\n",
       "div.sk-item {\n",
       "  /* draw centered vertical line to link estimators */\n",
       "  background-image: linear-gradient(var(--sklearn-color-text-on-default-background), var(--sklearn-color-text-on-default-background));\n",
       "  background-size: 2px 100%;\n",
       "  background-repeat: no-repeat;\n",
       "  background-position: center center;\n",
       "}\n",
       "\n",
       "/* Parallel-specific style estimator block */\n",
       "\n",
       "#sk-container-id-2 div.sk-parallel-item::after {\n",
       "  content: \"\";\n",
       "  width: 100%;\n",
       "  border-bottom: 2px solid var(--sklearn-color-text-on-default-background);\n",
       "  flex-grow: 1;\n",
       "}\n",
       "\n",
       "#sk-container-id-2 div.sk-parallel {\n",
       "  display: flex;\n",
       "  align-items: stretch;\n",
       "  justify-content: center;\n",
       "  background-color: var(--sklearn-color-background);\n",
       "  position: relative;\n",
       "}\n",
       "\n",
       "#sk-container-id-2 div.sk-parallel-item {\n",
       "  display: flex;\n",
       "  flex-direction: column;\n",
       "}\n",
       "\n",
       "#sk-container-id-2 div.sk-parallel-item:first-child::after {\n",
       "  align-self: flex-end;\n",
       "  width: 50%;\n",
       "}\n",
       "\n",
       "#sk-container-id-2 div.sk-parallel-item:last-child::after {\n",
       "  align-self: flex-start;\n",
       "  width: 50%;\n",
       "}\n",
       "\n",
       "#sk-container-id-2 div.sk-parallel-item:only-child::after {\n",
       "  width: 0;\n",
       "}\n",
       "\n",
       "/* Serial-specific style estimator block */\n",
       "\n",
       "#sk-container-id-2 div.sk-serial {\n",
       "  display: flex;\n",
       "  flex-direction: column;\n",
       "  align-items: center;\n",
       "  background-color: var(--sklearn-color-background);\n",
       "  padding-right: 1em;\n",
       "  padding-left: 1em;\n",
       "}\n",
       "\n",
       "\n",
       "/* Toggleable style: style used for estimator/Pipeline/ColumnTransformer box that is\n",
       "clickable and can be expanded/collapsed.\n",
       "- Pipeline and ColumnTransformer use this feature and define the default style\n",
       "- Estimators will overwrite some part of the style using the `sk-estimator` class\n",
       "*/\n",
       "\n",
       "/* Pipeline and ColumnTransformer style (default) */\n",
       "\n",
       "#sk-container-id-2 div.sk-toggleable {\n",
       "  /* Default theme specific background. It is overwritten whether we have a\n",
       "  specific estimator or a Pipeline/ColumnTransformer */\n",
       "  background-color: var(--sklearn-color-background);\n",
       "}\n",
       "\n",
       "/* Toggleable label */\n",
       "#sk-container-id-2 label.sk-toggleable__label {\n",
       "  cursor: pointer;\n",
       "  display: block;\n",
       "  width: 100%;\n",
       "  margin-bottom: 0;\n",
       "  padding: 0.5em;\n",
       "  box-sizing: border-box;\n",
       "  text-align: center;\n",
       "}\n",
       "\n",
       "#sk-container-id-2 label.sk-toggleable__label-arrow:before {\n",
       "  /* Arrow on the left of the label */\n",
       "  content: \"▸\";\n",
       "  float: left;\n",
       "  margin-right: 0.25em;\n",
       "  color: var(--sklearn-color-icon);\n",
       "}\n",
       "\n",
       "#sk-container-id-2 label.sk-toggleable__label-arrow:hover:before {\n",
       "  color: var(--sklearn-color-text);\n",
       "}\n",
       "\n",
       "/* Toggleable content - dropdown */\n",
       "\n",
       "#sk-container-id-2 div.sk-toggleable__content {\n",
       "  max-height: 0;\n",
       "  max-width: 0;\n",
       "  overflow: hidden;\n",
       "  text-align: left;\n",
       "  /* unfitted */\n",
       "  background-color: var(--sklearn-color-unfitted-level-0);\n",
       "}\n",
       "\n",
       "#sk-container-id-2 div.sk-toggleable__content.fitted {\n",
       "  /* fitted */\n",
       "  background-color: var(--sklearn-color-fitted-level-0);\n",
       "}\n",
       "\n",
       "#sk-container-id-2 div.sk-toggleable__content pre {\n",
       "  margin: 0.2em;\n",
       "  border-radius: 0.25em;\n",
       "  color: var(--sklearn-color-text);\n",
       "  /* unfitted */\n",
       "  background-color: var(--sklearn-color-unfitted-level-0);\n",
       "}\n",
       "\n",
       "#sk-container-id-2 div.sk-toggleable__content.fitted pre {\n",
       "  /* unfitted */\n",
       "  background-color: var(--sklearn-color-fitted-level-0);\n",
       "}\n",
       "\n",
       "#sk-container-id-2 input.sk-toggleable__control:checked~div.sk-toggleable__content {\n",
       "  /* Expand drop-down */\n",
       "  max-height: 200px;\n",
       "  max-width: 100%;\n",
       "  overflow: auto;\n",
       "}\n",
       "\n",
       "#sk-container-id-2 input.sk-toggleable__control:checked~label.sk-toggleable__label-arrow:before {\n",
       "  content: \"▾\";\n",
       "}\n",
       "\n",
       "/* Pipeline/ColumnTransformer-specific style */\n",
       "\n",
       "#sk-container-id-2 div.sk-label input.sk-toggleable__control:checked~label.sk-toggleable__label {\n",
       "  color: var(--sklearn-color-text);\n",
       "  background-color: var(--sklearn-color-unfitted-level-2);\n",
       "}\n",
       "\n",
       "#sk-container-id-2 div.sk-label.fitted input.sk-toggleable__control:checked~label.sk-toggleable__label {\n",
       "  background-color: var(--sklearn-color-fitted-level-2);\n",
       "}\n",
       "\n",
       "/* Estimator-specific style */\n",
       "\n",
       "/* Colorize estimator box */\n",
       "#sk-container-id-2 div.sk-estimator input.sk-toggleable__control:checked~label.sk-toggleable__label {\n",
       "  /* unfitted */\n",
       "  background-color: var(--sklearn-color-unfitted-level-2);\n",
       "}\n",
       "\n",
       "#sk-container-id-2 div.sk-estimator.fitted input.sk-toggleable__control:checked~label.sk-toggleable__label {\n",
       "  /* fitted */\n",
       "  background-color: var(--sklearn-color-fitted-level-2);\n",
       "}\n",
       "\n",
       "#sk-container-id-2 div.sk-label label.sk-toggleable__label,\n",
       "#sk-container-id-2 div.sk-label label {\n",
       "  /* The background is the default theme color */\n",
       "  color: var(--sklearn-color-text-on-default-background);\n",
       "}\n",
       "\n",
       "/* On hover, darken the color of the background */\n",
       "#sk-container-id-2 div.sk-label:hover label.sk-toggleable__label {\n",
       "  color: var(--sklearn-color-text);\n",
       "  background-color: var(--sklearn-color-unfitted-level-2);\n",
       "}\n",
       "\n",
       "/* Label box, darken color on hover, fitted */\n",
       "#sk-container-id-2 div.sk-label.fitted:hover label.sk-toggleable__label.fitted {\n",
       "  color: var(--sklearn-color-text);\n",
       "  background-color: var(--sklearn-color-fitted-level-2);\n",
       "}\n",
       "\n",
       "/* Estimator label */\n",
       "\n",
       "#sk-container-id-2 div.sk-label label {\n",
       "  font-family: monospace;\n",
       "  font-weight: bold;\n",
       "  display: inline-block;\n",
       "  line-height: 1.2em;\n",
       "}\n",
       "\n",
       "#sk-container-id-2 div.sk-label-container {\n",
       "  text-align: center;\n",
       "}\n",
       "\n",
       "/* Estimator-specific */\n",
       "#sk-container-id-2 div.sk-estimator {\n",
       "  font-family: monospace;\n",
       "  border: 1px dotted var(--sklearn-color-border-box);\n",
       "  border-radius: 0.25em;\n",
       "  box-sizing: border-box;\n",
       "  margin-bottom: 0.5em;\n",
       "  /* unfitted */\n",
       "  background-color: var(--sklearn-color-unfitted-level-0);\n",
       "}\n",
       "\n",
       "#sk-container-id-2 div.sk-estimator.fitted {\n",
       "  /* fitted */\n",
       "  background-color: var(--sklearn-color-fitted-level-0);\n",
       "}\n",
       "\n",
       "/* on hover */\n",
       "#sk-container-id-2 div.sk-estimator:hover {\n",
       "  /* unfitted */\n",
       "  background-color: var(--sklearn-color-unfitted-level-2);\n",
       "}\n",
       "\n",
       "#sk-container-id-2 div.sk-estimator.fitted:hover {\n",
       "  /* fitted */\n",
       "  background-color: var(--sklearn-color-fitted-level-2);\n",
       "}\n",
       "\n",
       "/* Specification for estimator info (e.g. \"i\" and \"?\") */\n",
       "\n",
       "/* Common style for \"i\" and \"?\" */\n",
       "\n",
       ".sk-estimator-doc-link,\n",
       "a:link.sk-estimator-doc-link,\n",
       "a:visited.sk-estimator-doc-link {\n",
       "  float: right;\n",
       "  font-size: smaller;\n",
       "  line-height: 1em;\n",
       "  font-family: monospace;\n",
       "  background-color: var(--sklearn-color-background);\n",
       "  border-radius: 1em;\n",
       "  height: 1em;\n",
       "  width: 1em;\n",
       "  text-decoration: none !important;\n",
       "  margin-left: 1ex;\n",
       "  /* unfitted */\n",
       "  border: var(--sklearn-color-unfitted-level-1) 1pt solid;\n",
       "  color: var(--sklearn-color-unfitted-level-1);\n",
       "}\n",
       "\n",
       ".sk-estimator-doc-link.fitted,\n",
       "a:link.sk-estimator-doc-link.fitted,\n",
       "a:visited.sk-estimator-doc-link.fitted {\n",
       "  /* fitted */\n",
       "  border: var(--sklearn-color-fitted-level-1) 1pt solid;\n",
       "  color: var(--sklearn-color-fitted-level-1);\n",
       "}\n",
       "\n",
       "/* On hover */\n",
       "div.sk-estimator:hover .sk-estimator-doc-link:hover,\n",
       ".sk-estimator-doc-link:hover,\n",
       "div.sk-label-container:hover .sk-estimator-doc-link:hover,\n",
       ".sk-estimator-doc-link:hover {\n",
       "  /* unfitted */\n",
       "  background-color: var(--sklearn-color-unfitted-level-3);\n",
       "  color: var(--sklearn-color-background);\n",
       "  text-decoration: none;\n",
       "}\n",
       "\n",
       "div.sk-estimator.fitted:hover .sk-estimator-doc-link.fitted:hover,\n",
       ".sk-estimator-doc-link.fitted:hover,\n",
       "div.sk-label-container:hover .sk-estimator-doc-link.fitted:hover,\n",
       ".sk-estimator-doc-link.fitted:hover {\n",
       "  /* fitted */\n",
       "  background-color: var(--sklearn-color-fitted-level-3);\n",
       "  color: var(--sklearn-color-background);\n",
       "  text-decoration: none;\n",
       "}\n",
       "\n",
       "/* Span, style for the box shown on hovering the info icon */\n",
       ".sk-estimator-doc-link span {\n",
       "  display: none;\n",
       "  z-index: 9999;\n",
       "  position: relative;\n",
       "  font-weight: normal;\n",
       "  right: .2ex;\n",
       "  padding: .5ex;\n",
       "  margin: .5ex;\n",
       "  width: min-content;\n",
       "  min-width: 20ex;\n",
       "  max-width: 50ex;\n",
       "  color: var(--sklearn-color-text);\n",
       "  box-shadow: 2pt 2pt 4pt #999;\n",
       "  /* unfitted */\n",
       "  background: var(--sklearn-color-unfitted-level-0);\n",
       "  border: .5pt solid var(--sklearn-color-unfitted-level-3);\n",
       "}\n",
       "\n",
       ".sk-estimator-doc-link.fitted span {\n",
       "  /* fitted */\n",
       "  background: var(--sklearn-color-fitted-level-0);\n",
       "  border: var(--sklearn-color-fitted-level-3);\n",
       "}\n",
       "\n",
       ".sk-estimator-doc-link:hover span {\n",
       "  display: block;\n",
       "}\n",
       "\n",
       "/* \"?\"-specific style due to the `<a>` HTML tag */\n",
       "\n",
       "#sk-container-id-2 a.estimator_doc_link {\n",
       "  float: right;\n",
       "  font-size: 1rem;\n",
       "  line-height: 1em;\n",
       "  font-family: monospace;\n",
       "  background-color: var(--sklearn-color-background);\n",
       "  border-radius: 1rem;\n",
       "  height: 1rem;\n",
       "  width: 1rem;\n",
       "  text-decoration: none;\n",
       "  /* unfitted */\n",
       "  color: var(--sklearn-color-unfitted-level-1);\n",
       "  border: var(--sklearn-color-unfitted-level-1) 1pt solid;\n",
       "}\n",
       "\n",
       "#sk-container-id-2 a.estimator_doc_link.fitted {\n",
       "  /* fitted */\n",
       "  border: var(--sklearn-color-fitted-level-1) 1pt solid;\n",
       "  color: var(--sklearn-color-fitted-level-1);\n",
       "}\n",
       "\n",
       "/* On hover */\n",
       "#sk-container-id-2 a.estimator_doc_link:hover {\n",
       "  /* unfitted */\n",
       "  background-color: var(--sklearn-color-unfitted-level-3);\n",
       "  color: var(--sklearn-color-background);\n",
       "  text-decoration: none;\n",
       "}\n",
       "\n",
       "#sk-container-id-2 a.estimator_doc_link.fitted:hover {\n",
       "  /* fitted */\n",
       "  background-color: var(--sklearn-color-fitted-level-3);\n",
       "}\n",
       "</style><div id=\"sk-container-id-2\" class=\"sk-top-container\"><div class=\"sk-text-repr-fallback\"><pre>RandomForestClassifier(max_depth=3)</pre><b>In a Jupyter environment, please rerun this cell to show the HTML representation or trust the notebook. <br />On GitHub, the HTML representation is unable to render, please try loading this page with nbviewer.org.</b></div><div class=\"sk-container\" hidden><div class=\"sk-item\"><div class=\"sk-estimator fitted sk-toggleable\"><input class=\"sk-toggleable__control sk-hidden--visually\" id=\"sk-estimator-id-2\" type=\"checkbox\" checked><label for=\"sk-estimator-id-2\" class=\"sk-toggleable__label fitted sk-toggleable__label-arrow fitted\">&nbsp;&nbsp;RandomForestClassifier<a class=\"sk-estimator-doc-link fitted\" rel=\"noreferrer\" target=\"_blank\" href=\"https://scikit-learn.org/1.4/modules/generated/sklearn.ensemble.RandomForestClassifier.html\">?<span>Documentation for RandomForestClassifier</span></a><span class=\"sk-estimator-doc-link fitted\">i<span>Fitted</span></span></label><div class=\"sk-toggleable__content fitted\"><pre>RandomForestClassifier(max_depth=3)</pre></div> </div></div></div></div>"
      ],
      "text/plain": [
       "RandomForestClassifier(max_depth=3)"
      ]
     },
     "execution_count": 280,
     "metadata": {},
     "output_type": "execute_result"
    }
   ],
   "source": [
    "rf.fit(x,y)"
   ]
  },
  {
   "cell_type": "markdown",
   "id": "4b2606e6-fdcc-44e2-9796-77ce81005c33",
   "metadata": {},
   "source": [
    "# Making Predictions with the Trained Random Forest Model\n",
    "Objective: To use the trained RandomForestClassifier model to make predictions on new, unseen data.\n",
    "\n",
    "Description: This step involves creating a new DataFrame with feature values for which predictions need to be made, and then using the trained model to predict the outcome based on these features."
   ]
  },
  {
   "cell_type": "code",
   "execution_count": 282,
   "id": "4d601d0b-7250-450f-82f1-b137d310f7e4",
   "metadata": {},
   "outputs": [],
   "source": [
    "import pandas as pd\n",
    "from sklearn.ensemble import RandomForestClassifier\n",
    "\n",
    "# Create a new DataFrame with correct column names\n",
    "new_data = pd.DataFrame({\n",
    "    'Pregnancies': [6],\n",
    "    'Glucose': [148.0],\n",
    "    'BloodPressure': [72.0],  # Renamed to match training feature\n",
    "    'SkinThickness': [35.0],\n",
    "    'Insulin': [79.799479],\n",
    "    'BMI': [33.6],\n",
    "    'DiabetesPedigreeFunction': [0.627],  # Renamed to match training feature\n",
    "    'Age': [50],\n",
    "})\n",
    "\n",
    "# Predict using the trained model\n",
    "p = rf.predict(new_data)\n",
    "\n"
   ]
  },
  {
   "cell_type": "markdown",
   "id": "d437a48f-aa52-49f4-a58f-602ee358990a",
   "metadata": {},
   "source": [
    "# Interpreting Model Predictions\n",
    "Objective: To interpret the prediction result from the RandomForestClassifier and provide a human-readable classification of the outcome.\n",
    "\n",
    "Description: This step involves checking the value of the prediction result and printing a corresponding message indicating whether the individual is diabetic or non-diabetic."
   ]
  },
  {
   "cell_type": "code",
   "execution_count": 284,
   "id": "a43a1d97-373c-4521-b867-f720d10a77fb",
   "metadata": {},
   "outputs": [
    {
     "name": "stdout",
     "output_type": "stream",
     "text": [
      "diabetic\n"
     ]
    }
   ],
   "source": [
    "if p[0]==0:\n",
    "    print('non diabetic')\n",
    "else:\n",
    "    print('diabetic')"
   ]
  },
  {
   "cell_type": "markdown",
   "id": "60a644da-2cad-4b09-87f5-9d0727e539c0",
   "metadata": {},
   "source": [
    "# Saving and Loading Machine Learning Models Using Joblib\n",
    "In this section, we aim to preserve our trained machine learning models using joblib. This allows us to save models after training so that they can be loaded and reused later without retraining. This is especially useful in deployment scenarios where we need to predict outcomes without retraining the model every time.\n",
    "\n"
   ]
  },
  {
   "cell_type": "code",
   "execution_count": 286,
   "id": "e22c84e5-4865-47fd-a894-aed902aed35f",
   "metadata": {},
   "outputs": [],
   "source": [
    "import joblib\n"
   ]
  },
  {
   "cell_type": "markdown",
   "id": "1ef62043-670a-4f1c-8a6d-cf3d5a18d862",
   "metadata": {},
   "source": [
    "# Saving the Random Forest Model Using Joblib\n",
    "In this section, the trained Random Forest model is saved to a file using joblib, allowing for easy reuse without the need for retraining. This is useful for deployment or sharing the model for future predictions.\n",
    "\n",
    "Description:\n",
    "\n",
    "After loading the Random Forest model, it is used to make predictions on the test dataset (X_test). The predictions (y_pred_rf) are then evaluated using the accuracy_score() function to measure the model's performance on unseen data.\n",
    "\n"
   ]
  },
  {
   "cell_type": "code",
   "execution_count": 288,
   "id": "784cd157-f2b6-4b56-9429-e12cba2b3998",
   "metadata": {},
   "outputs": [
    {
     "data": {
      "text/plain": [
       "['model_joblib_diabetes']"
      ]
     },
     "execution_count": 288,
     "metadata": {},
     "output_type": "execute_result"
    }
   ],
   "source": [
    "joblib.dump(rf,'model_joblib_diabetes')"
   ]
  },
  {
   "cell_type": "markdown",
   "id": "c418487e-01de-4846-add3-19d86c5efc85",
   "metadata": {},
   "source": [
    "# Loading the Saved Random Forest Model\n",
    "In this step, we restore the saved Random Forest model using joblib. This allows us to reuse the previously trained model for making predictions without retraining it, saving time and computational resources.\n",
    "\n"
   ]
  },
  {
   "cell_type": "code",
   "execution_count": 290,
   "id": "97db1547-4b2a-4d74-92b2-120ee600d836",
   "metadata": {},
   "outputs": [],
   "source": [
    "model=joblib.load('model_joblib_diabetes')"
   ]
  },
  {
   "cell_type": "markdown",
   "id": "d778b926-c6a7-4e37-adab-27688c3efb9c",
   "metadata": {},
   "source": [
    "# Making Predictions on New Data Using the Loaded Model\n",
    "After loading the trained Random Forest model, we can use it to make predictions on unseen or new data. This step simulates real-world scenarios where a deployed model predicts outcomes based on new patient data."
   ]
  },
  {
   "cell_type": "code",
   "execution_count": 292,
   "id": "8f157df6-2907-4250-8ec3-615cb4671bf5",
   "metadata": {},
   "outputs": [
    {
     "data": {
      "text/plain": [
       "array([1], dtype=int64)"
      ]
     },
     "execution_count": 292,
     "metadata": {},
     "output_type": "execute_result"
    }
   ],
   "source": [
    "model.predict(new_data)"
   ]
  },
  {
   "cell_type": "code",
   "execution_count": 293,
   "id": "95cee902-1ecc-4aac-ae3d-4c2fc5e2301d",
   "metadata": {},
   "outputs": [],
   "source": [
    "from sklearn.metrics import confusion_matrix\n",
    "import matplotlib.pyplot as plt\n",
    "import seaborn as sns\n"
   ]
  },
  {
   "cell_type": "markdown",
   "id": "603ec8ef-2cff-41de-838f-61ad9612d7c8",
   "metadata": {},
   "source": [
    "# Compute the confusion matrix using the test set:"
   ]
  },
  {
   "cell_type": "code",
   "execution_count": 295,
   "id": "6e5afa4b-1e11-43c2-9df8-4e09e61c3b21",
   "metadata": {},
   "outputs": [
    {
     "name": "stdout",
     "output_type": "stream",
     "text": [
      "Confusion Matrix:\n",
      "[[115  13]\n",
      " [ 30  42]]\n"
     ]
    }
   ],
   "source": [
    "# Predict labels for the test set\n",
    "y_pred = rf.predict(x_test)\n",
    "\n",
    "# Compute the confusion matrix\n",
    "cm = confusion_matrix(y_test, y_pred)\n",
    "\n",
    "# Print the confusion matrix\n",
    "print(\"Confusion Matrix:\")\n",
    "print(cm)\n"
   ]
  },
  {
   "cell_type": "markdown",
   "id": "54d69938-ea87-4d51-9128-573ebd481432",
   "metadata": {},
   "source": [
    "# Visualize the confusion matrix using a heatmap (optional but useful):"
   ]
  },
  {
   "cell_type": "code",
   "execution_count": 297,
   "id": "be6b5875-69c5-423e-81f3-e934391d9f4b",
   "metadata": {},
   "outputs": [
    {
     "data": {
      "image/png": "[encoded data removed]",
      "text/plain": [
       "<Figure size 800x600 with 2 Axes>"
      ]
     },
     "metadata": {},
     "output_type": "display_data"
    }
   ],
   "source": [
    "# Create a heatmap for the confusion matrix\n",
    "plt.figure(figsize=(8, 6))\n",
    "sns.heatmap(cm, annot=True, fmt='d', cmap='Blues', \n",
    "            xticklabels=['Non-Diabetic', 'Diabetic'], \n",
    "            yticklabels=['Non-Diabetic', 'Diabetic'])\n",
    "plt.xlabel('Predicted Label')\n",
    "plt.ylabel('True Label')\n",
    "plt.title('Confusion Matrix')\n",
    "plt.show()\n"
   ]
  },
  {
   "cell_type": "markdown",
   "id": "d7540670-f88b-41f4-9c7a-985f67d55624",
   "metadata": {},
   "source": [
    "# Ensure you have the necessary imports:"
   ]
  },
  {
   "cell_type": "code",
   "execution_count": 299,
   "id": "ab6f1228-4eb4-4eba-97c0-a69a281b9ebb",
   "metadata": {},
   "outputs": [],
   "source": [
    "from sklearn.metrics import roc_curve, roc_auc_score\n",
    "import matplotlib.pyplot as plt\n"
   ]
  },
  {
   "cell_type": "markdown",
   "id": "f2346adf-06d5-40b4-bd0d-de3d96e1cc06",
   "metadata": {},
   "source": [
    "# Compute the ROC curve and ROC AUC score:"
   ]
  },
  {
   "cell_type": "code",
   "execution_count": 301,
   "id": "ef7b5c3b-0129-4265-8566-e4a1f0ce150d",
   "metadata": {},
   "outputs": [
    {
     "name": "stdout",
     "output_type": "stream",
     "text": [
      "ROC AUC Score: 0.8537\n"
     ]
    }
   ],
   "source": [
    "# Predict the probabilities for the test set\n",
    "y_probs = rf.predict_proba(x_test)[:, 1]  # Probability estimates for the positive class\n",
    "\n",
    "# Compute ROC curve\n",
    "fpr, tpr, thresholds = roc_curve(y_test, y_probs)\n",
    "\n",
    "# Compute ROC AUC score\n",
    "roc_auc = roc_auc_score(y_test, y_probs)\n",
    "\n",
    "# Print ROC AUC score\n",
    "print(f\"ROC AUC Score: {roc_auc:.4f}\")\n"
   ]
  },
  {
   "cell_type": "markdown",
   "id": "ae164264-bfd7-455e-bf23-3e5686ba255e",
   "metadata": {},
   "source": [
    "# Plot the ROC curve:"
   ]
  },
  {
   "cell_type": "code",
   "execution_count": 303,
   "id": "84e456b3-c70f-4afd-a00b-4ee80829d48b",
   "metadata": {},
   "outputs": [
    {
     "data": {
      "image/png": "[encoded data removed]",
      "text/plain": [
       "<Figure size 800x600 with 1 Axes>"
      ]
     },
     "metadata": {},
     "output_type": "display_data"
    }
   ],
   "source": [
    "# Plot the ROC curve\n",
    "plt.figure(figsize=(8, 6))\n",
    "plt.plot(fpr, tpr, color='blue', lw=2, label='ROC curve (area = %0.2f)' % roc_auc)\n",
    "plt.plot([0, 1], [0, 1], color='gray', linestyle='--')\n",
    "plt.xlim([0.0, 1.0])\n",
    "plt.ylim([0.0, 1.05])\n",
    "plt.xlabel('False Positive Rate')\n",
    "plt.ylabel('True Positive Rate')\n",
    "plt.title('Receiver Operating Characteristic (ROC) Curve')\n",
    "plt.legend(loc='lower right')\n",
    "plt.show()\n"
   ]
  },
  {
   "cell_type": "markdown",
   "id": "861a99c3-61aa-4bf7-bc2f-72247cc0db78",
   "metadata": {},
   "source": [
    "# Generate and print the classification report:"
   ]
  },
  {
   "cell_type": "code",
   "execution_count": 305,
   "id": "35a2977a-938b-42b4-afc1-67553c106681",
   "metadata": {},
   "outputs": [
    {
     "name": "stdout",
     "output_type": "stream",
     "text": [
      "Classification Report:\n",
      "              precision    recall  f1-score   support\n",
      "\n",
      "Non-Diabetic       0.79      0.90      0.84       128\n",
      "    Diabetic       0.76      0.58      0.66        72\n",
      "\n",
      "    accuracy                           0.79       200\n",
      "   macro avg       0.78      0.74      0.75       200\n",
      "weighted avg       0.78      0.79      0.78       200\n",
      "\n"
     ]
    }
   ],
   "source": [
    "from sklearn.metrics import classification_report\n",
    "# Predict labels for the test set\n",
    "y_pred = rf.predict(x_test)\n",
    "\n",
    "# Compute the classification report\n",
    "report = classification_report(y_test, y_pred, target_names=['Non-Diabetic', 'Diabetic'])\n",
    "\n",
    "# Print the classification report\n",
    "print(\"Classification Report:\")\n",
    "print(report)\n"
   ]
  },
  {
   "cell_type": "markdown",
   "id": "532c4811-86f3-4775-8d18-d27b67738569",
   "metadata": {},
   "source": [
    "# Diabetes Prediction GUI Application\n",
    "This script uses the Tkinter library to create a graphical user interface (GUI) for predicting diabetes based on user input. The application leverages a pre-trained Random Forest model to classify whether an individual is diabetic or non-diabetic based on various medical attributes."
   ]
  },
  {
   "cell_type": "code",
   "execution_count": 307,
   "id": "25dd6b63-7b15-459e-a46d-815143b94758",
   "metadata": {},
   "outputs": [
    {
     "name": "stderr",
     "output_type": "stream",
     "text": [
      "C:\\Users\\jisha\\anaconda10\\Lib\\site-packages\\sklearn\\base.py:493: UserWarning: X does not have valid feature names, but RandomForestClassifier was fitted with feature names\n",
      "  warnings.warn(\n"
     ]
    }
   ],
   "source": [
    "from tkinter import *\n",
    "import joblib\n",
    "import numpy as np\n",
    "\n",
    "def show_entry_fields():\n",
    "    # Fetch values from the input fields\n",
    "    p1 = float(e1.get())\n",
    "    p2 = float(e2.get())\n",
    "    p3 = float(e3.get())\n",
    "    p4 = float(e4.get())\n",
    "    p5 = float(e5.get())\n",
    "    p6 = float(e6.get())\n",
    "    p7 = float(e7.get())\n",
    "    p8 = float(e8.get())\n",
    "\n",
    "    # Load the pre-trained model\n",
    "    model = joblib.load('model_joblib_diabetes')\n",
    "\n",
    "    # Make a prediction\n",
    "    result = model.predict([[p1, p2, p3, p4, p5, p6, p7, p8]])\n",
    "\n",
    "    # Show the result\n",
    "    result_text = \"Diabetic\" if result[0] == 1 else \"Non-Diabetic\"\n",
    "    Label(master, text=result_text).grid(row=31)\n",
    "\n",
    "# Create the main window\n",
    "master = Tk()\n",
    "master.title(\"Diabetes Prediction Using Machine Learning\")\n",
    "\n",
    "# Add labels and entry widgets\n",
    "Label(master, text=\"Diabetes Prediction Using Machine Learning\", bg=\"black\", fg=\"white\").grid(row=0, columnspan=2)\n",
    "\n",
    "Label(master, text=\"Pregnancies\").grid(row=1)\n",
    "Label(master, text=\"Glucose\").grid(row=2)\n",
    "Label(master, text=\"Blood Pressure\").grid(row=3)\n",
    "Label(master, text=\"Skin Thickness\").grid(row=4)\n",
    "Label(master, text=\"Insulin\").grid(row=5)\n",
    "Label(master, text=\"BMI\").grid(row=6)\n",
    "Label(master, text=\"Diabetes Pedigree Function\").grid(row=7)\n",
    "Label(master, text=\"Age\").grid(row=8)\n",
    "\n",
    "# Create entry fields\n",
    "e1 = Entry(master)\n",
    "e2 = Entry(master)\n",
    "e3 = Entry(master)\n",
    "e4 = Entry(master)\n",
    "e5 = Entry(master)\n",
    "e6 = Entry(master)\n",
    "e7 = Entry(master)\n",
    "e8 = Entry(master)\n",
    "\n",
    "# Position entry fields in the grid\n",
    "e1.grid(row=1, column=1)\n",
    "e2.grid(row=2, column=1)\n",
    "e3.grid(row=3, column=1)\n",
    "e4.grid(row=4, column=1)\n",
    "e5.grid(row=5, column=1)\n",
    "e6.grid(row=6, column=1)\n",
    "e7.grid(row=7, column=1)\n",
    "e8.grid(row=8, column=1)\n",
    "\n",
    "# Add predict button\n",
    "Button(master, text=\"Predict\", command=show_entry_fields).grid(row=30, columnspan=2)\n",
    "\n",
    "# Start the GUI event loop\n",
    "mainloop()\n"
   ]
  },
  {
   "cell_type": "markdown",
   "id": "69607161-5607-4a76-b82e-61791e1adecf",
   "metadata": {},
   "source": [
    "# Conclusion\n",
    "In this diabetes prediction project, we developed a predictive model to estimate the likelihood of diabetes based on various health metrics. By employing different machine learning algorithms, including Logistic Regression, K-Nearest Neighbors (KNN), Support Vector Classifier (SVC), Decision Tree, Random Forest, and Gradient Boosting Classifier, we aimed to identify the most effective approach for predicting diabetes risk.\n",
    "\n",
    "Among the evaluated models, the Random Forest Classifier demonstrated the highest test accuracy of 79%. This performance suggests that the Random Forest model is the most reliable in terms of making accurate predictions for this dataset. The integration of this model into a user-friendly GUI application using Tkinter allows for easy interaction and real-time predictions based on user input.\n",
    "\n",
    "Overall, the project's successful implementation of a predictive model and its deployment in a practical application highlights the potential of machine learning in healthcare. By accurately predicting diabetes risk, this tool can contribute to early detection and intervention, ultimately supporting better health outcomes.\n",
    "\n",
    "Future work could focus on further fine-tuning the model, exploring additional features, and evaluating the performance on different datasets to enhance the model's generalizability and robustness."
   ]
  }
 ],
 "metadata": {
  "kernelspec": {
   "display_name": "Python 3 (ipykernel)",
   "language": "python",
   "name": "python3"
  },
  "language_info": {
   "codemirror_mode": {
    "name": "ipython",
    "version": 3
   },
   "file_extension": ".py",
   "mimetype": "text/x-python",
   "name": "python",
   "nbconvert_exporter": "python",
   "pygments_lexer": "ipython3",
   "version": "3.12.4"
  }
 },
 "nbformat": 4,
 "nbformat_minor": 5
}
